{
 "cells": [
  {
   "cell_type": "markdown",
   "metadata": {},
   "source": [
    "- Ricardo Méndez 21289\n",
    "- Sara Echeverría 21371\n",
    "- Sebastián Juárez 21471"
   ]
  },
  {
   "cell_type": "code",
   "execution_count": 69,
   "metadata": {},
   "outputs": [],
   "source": [
    "import matplotlib\n",
    "import pandas as pd\n",
    "import numpy as np\n",
    "\n",
    "import matplotlib.pyplot as plt\n",
    "\n",
    "plt.style.use('ggplot')\n",
    "\n",
    "import numpy as np\n",
    "import pandas as pd\n",
    "import seaborn as sns\n",
    "from collections import Counter\n",
    "from sklearn.neighbors import KNeighborsClassifier\n",
    "from sklearn.metrics import accuracy_score"
   ]
  },
  {
   "cell_type": "code",
   "execution_count": 70,
   "metadata": {},
   "outputs": [
    {
     "data": {
      "text/html": [
       "<div>\n",
       "<style scoped>\n",
       "    .dataframe tbody tr th:only-of-type {\n",
       "        vertical-align: middle;\n",
       "    }\n",
       "\n",
       "    .dataframe tbody tr th {\n",
       "        vertical-align: top;\n",
       "    }\n",
       "\n",
       "    .dataframe thead th {\n",
       "        text-align: right;\n",
       "    }\n",
       "</style>\n",
       "<table border=\"1\" class=\"dataframe\">\n",
       "  <thead>\n",
       "    <tr style=\"text-align: right;\">\n",
       "      <th></th>\n",
       "      <th>id</th>\n",
       "      <th>budget</th>\n",
       "      <th>genres</th>\n",
       "      <th>homePage</th>\n",
       "      <th>productionCompany</th>\n",
       "      <th>productionCompanyCountry</th>\n",
       "      <th>productionCountry</th>\n",
       "      <th>revenue</th>\n",
       "      <th>runtime</th>\n",
       "      <th>video</th>\n",
       "      <th>...</th>\n",
       "      <th>popularity</th>\n",
       "      <th>releaseDate</th>\n",
       "      <th>voteAvg</th>\n",
       "      <th>voteCount</th>\n",
       "      <th>genresAmount</th>\n",
       "      <th>productionCoAmount</th>\n",
       "      <th>productionCountriesAmount</th>\n",
       "      <th>actorsAmount</th>\n",
       "      <th>castWomenAmount</th>\n",
       "      <th>castMenAmount</th>\n",
       "    </tr>\n",
       "  </thead>\n",
       "  <tbody>\n",
       "    <tr>\n",
       "      <th>0</th>\n",
       "      <td>5</td>\n",
       "      <td>4000000</td>\n",
       "      <td>Crime|Comedy</td>\n",
       "      <td>https://www.miramax.com/movie/four-rooms/</td>\n",
       "      <td>Miramax|A Band Apart</td>\n",
       "      <td>US|US</td>\n",
       "      <td>United States of America</td>\n",
       "      <td>4257354.0</td>\n",
       "      <td>98</td>\n",
       "      <td>False</td>\n",
       "      <td>...</td>\n",
       "      <td>20.880</td>\n",
       "      <td>1995-12-09</td>\n",
       "      <td>5.7</td>\n",
       "      <td>2077</td>\n",
       "      <td>2</td>\n",
       "      <td>2</td>\n",
       "      <td>1</td>\n",
       "      <td>25</td>\n",
       "      <td>15</td>\n",
       "      <td>9</td>\n",
       "    </tr>\n",
       "    <tr>\n",
       "      <th>1</th>\n",
       "      <td>6</td>\n",
       "      <td>21000000</td>\n",
       "      <td>Action|Thriller|Crime</td>\n",
       "      <td>NaN</td>\n",
       "      <td>Universal Pictures|Largo Entertainment|JVC</td>\n",
       "      <td>US|US|JP</td>\n",
       "      <td>Japan|United States of America</td>\n",
       "      <td>12136938.0</td>\n",
       "      <td>110</td>\n",
       "      <td>False</td>\n",
       "      <td>...</td>\n",
       "      <td>9.596</td>\n",
       "      <td>1993-10-15</td>\n",
       "      <td>6.5</td>\n",
       "      <td>223</td>\n",
       "      <td>3</td>\n",
       "      <td>3</td>\n",
       "      <td>2</td>\n",
       "      <td>15</td>\n",
       "      <td>3</td>\n",
       "      <td>9</td>\n",
       "    </tr>\n",
       "    <tr>\n",
       "      <th>2</th>\n",
       "      <td>11</td>\n",
       "      <td>11000000</td>\n",
       "      <td>Adventure|Action|Science Fiction</td>\n",
       "      <td>http://www.starwars.com/films/star-wars-episod...</td>\n",
       "      <td>Lucasfilm|20th Century Fox</td>\n",
       "      <td>US|US</td>\n",
       "      <td>United States of America</td>\n",
       "      <td>775398007.0</td>\n",
       "      <td>121</td>\n",
       "      <td>NaN</td>\n",
       "      <td>...</td>\n",
       "      <td>100.003</td>\n",
       "      <td>1977-05-25</td>\n",
       "      <td>8.2</td>\n",
       "      <td>16598</td>\n",
       "      <td>3</td>\n",
       "      <td>2</td>\n",
       "      <td>1</td>\n",
       "      <td>105</td>\n",
       "      <td>5</td>\n",
       "      <td>62</td>\n",
       "    </tr>\n",
       "    <tr>\n",
       "      <th>3</th>\n",
       "      <td>12</td>\n",
       "      <td>94000000</td>\n",
       "      <td>Animation|Family</td>\n",
       "      <td>http://movies.disney.com/finding-nemo</td>\n",
       "      <td>Pixar</td>\n",
       "      <td>US</td>\n",
       "      <td>United States of America</td>\n",
       "      <td>940335536.0</td>\n",
       "      <td>100</td>\n",
       "      <td>NaN</td>\n",
       "      <td>...</td>\n",
       "      <td>134.435</td>\n",
       "      <td>2003-05-30</td>\n",
       "      <td>7.8</td>\n",
       "      <td>15928</td>\n",
       "      <td>2</td>\n",
       "      <td>1</td>\n",
       "      <td>1</td>\n",
       "      <td>24</td>\n",
       "      <td>5</td>\n",
       "      <td>18</td>\n",
       "    </tr>\n",
       "    <tr>\n",
       "      <th>4</th>\n",
       "      <td>13</td>\n",
       "      <td>55000000</td>\n",
       "      <td>Comedy|Drama|Romance</td>\n",
       "      <td>NaN</td>\n",
       "      <td>Paramount|The Steve Tisch Company</td>\n",
       "      <td>US|</td>\n",
       "      <td>United States of America</td>\n",
       "      <td>677387716.0</td>\n",
       "      <td>142</td>\n",
       "      <td>False</td>\n",
       "      <td>...</td>\n",
       "      <td>58.751</td>\n",
       "      <td>1994-07-06</td>\n",
       "      <td>8.5</td>\n",
       "      <td>22045</td>\n",
       "      <td>3</td>\n",
       "      <td>2</td>\n",
       "      <td>1</td>\n",
       "      <td>76</td>\n",
       "      <td>18</td>\n",
       "      <td>48</td>\n",
       "    </tr>\n",
       "  </tbody>\n",
       "</table>\n",
       "<p>5 rows × 27 columns</p>\n",
       "</div>"
      ],
      "text/plain": [
       "   id    budget                            genres  \\\n",
       "0   5   4000000                      Crime|Comedy   \n",
       "1   6  21000000             Action|Thriller|Crime   \n",
       "2  11  11000000  Adventure|Action|Science Fiction   \n",
       "3  12  94000000                  Animation|Family   \n",
       "4  13  55000000              Comedy|Drama|Romance   \n",
       "\n",
       "                                            homePage  \\\n",
       "0          https://www.miramax.com/movie/four-rooms/   \n",
       "1                                                NaN   \n",
       "2  http://www.starwars.com/films/star-wars-episod...   \n",
       "3              http://movies.disney.com/finding-nemo   \n",
       "4                                                NaN   \n",
       "\n",
       "                            productionCompany productionCompanyCountry  \\\n",
       "0                        Miramax|A Band Apart                    US|US   \n",
       "1  Universal Pictures|Largo Entertainment|JVC                 US|US|JP   \n",
       "2                  Lucasfilm|20th Century Fox                    US|US   \n",
       "3                                       Pixar                       US   \n",
       "4           Paramount|The Steve Tisch Company                      US|   \n",
       "\n",
       "                productionCountry      revenue  runtime  video  ...  \\\n",
       "0        United States of America    4257354.0       98  False  ...   \n",
       "1  Japan|United States of America   12136938.0      110  False  ...   \n",
       "2        United States of America  775398007.0      121    NaN  ...   \n",
       "3        United States of America  940335536.0      100    NaN  ...   \n",
       "4        United States of America  677387716.0      142  False  ...   \n",
       "\n",
       "  popularity releaseDate voteAvg voteCount genresAmount productionCoAmount  \\\n",
       "0     20.880  1995-12-09     5.7      2077            2                  2   \n",
       "1      9.596  1993-10-15     6.5       223            3                  3   \n",
       "2    100.003  1977-05-25     8.2     16598            3                  2   \n",
       "3    134.435  2003-05-30     7.8     15928            2                  1   \n",
       "4     58.751  1994-07-06     8.5     22045            3                  2   \n",
       "\n",
       "  productionCountriesAmount  actorsAmount castWomenAmount  castMenAmount  \n",
       "0                         1            25              15              9  \n",
       "1                         2            15               3              9  \n",
       "2                         1           105               5             62  \n",
       "3                         1            24               5             18  \n",
       "4                         1            76              18             48  \n",
       "\n",
       "[5 rows x 27 columns]"
      ]
     },
     "execution_count": 70,
     "metadata": {},
     "output_type": "execute_result"
    }
   ],
   "source": [
    "df = pd.read_csv('data/movies.csv', encoding='latin1')\n",
    "df.head()"
   ]
  },
  {
   "cell_type": "markdown",
   "metadata": {},
   "source": [
    "## 1. Resumen del conjunto de datos.\n",
    "\n",
    "##### El conjunto de datos proporcionado contiene información sobre películas, incluyendo características como el presupuesto, ingresos, duración, género, fecha de lanzamiento, votos, actores, entre otros. Aproximadamente la mitad de las variables encontradas son cualitativas y la otra mitad cuantitativas."
   ]
  },
  {
   "cell_type": "code",
   "execution_count": 71,
   "metadata": {},
   "outputs": [
    {
     "data": {
      "text/html": [
       "<div>\n",
       "<style scoped>\n",
       "    .dataframe tbody tr th:only-of-type {\n",
       "        vertical-align: middle;\n",
       "    }\n",
       "\n",
       "    .dataframe tbody tr th {\n",
       "        vertical-align: top;\n",
       "    }\n",
       "\n",
       "    .dataframe thead th {\n",
       "        text-align: right;\n",
       "    }\n",
       "</style>\n",
       "<table border=\"1\" class=\"dataframe\">\n",
       "  <thead>\n",
       "    <tr style=\"text-align: right;\">\n",
       "      <th></th>\n",
       "      <th>id</th>\n",
       "      <th>budget</th>\n",
       "      <th>revenue</th>\n",
       "      <th>runtime</th>\n",
       "      <th>popularity</th>\n",
       "      <th>voteAvg</th>\n",
       "      <th>voteCount</th>\n",
       "      <th>genresAmount</th>\n",
       "      <th>productionCoAmount</th>\n",
       "      <th>productionCountriesAmount</th>\n",
       "      <th>actorsAmount</th>\n",
       "    </tr>\n",
       "  </thead>\n",
       "  <tbody>\n",
       "    <tr>\n",
       "      <th>count</th>\n",
       "      <td>10000.000000</td>\n",
       "      <td>1.000000e+04</td>\n",
       "      <td>1.000000e+04</td>\n",
       "      <td>10000.000000</td>\n",
       "      <td>10000.000000</td>\n",
       "      <td>10000.000000</td>\n",
       "      <td>10000.000000</td>\n",
       "      <td>10000.000000</td>\n",
       "      <td>10000.000000</td>\n",
       "      <td>10000.000000</td>\n",
       "      <td>10000.000000</td>\n",
       "    </tr>\n",
       "    <tr>\n",
       "      <th>mean</th>\n",
       "      <td>249876.829300</td>\n",
       "      <td>1.855163e+07</td>\n",
       "      <td>5.673793e+07</td>\n",
       "      <td>100.268100</td>\n",
       "      <td>51.393907</td>\n",
       "      <td>6.483490</td>\n",
       "      <td>1342.381800</td>\n",
       "      <td>2.596500</td>\n",
       "      <td>3.171400</td>\n",
       "      <td>1.751000</td>\n",
       "      <td>2147.666600</td>\n",
       "    </tr>\n",
       "    <tr>\n",
       "      <th>std</th>\n",
       "      <td>257380.109004</td>\n",
       "      <td>3.662669e+07</td>\n",
       "      <td>1.495854e+08</td>\n",
       "      <td>27.777829</td>\n",
       "      <td>216.729552</td>\n",
       "      <td>0.984274</td>\n",
       "      <td>2564.196637</td>\n",
       "      <td>1.154565</td>\n",
       "      <td>2.539738</td>\n",
       "      <td>3.012093</td>\n",
       "      <td>37200.075802</td>\n",
       "    </tr>\n",
       "    <tr>\n",
       "      <th>min</th>\n",
       "      <td>5.000000</td>\n",
       "      <td>0.000000e+00</td>\n",
       "      <td>0.000000e+00</td>\n",
       "      <td>0.000000</td>\n",
       "      <td>4.258000</td>\n",
       "      <td>1.300000</td>\n",
       "      <td>1.000000</td>\n",
       "      <td>0.000000</td>\n",
       "      <td>0.000000</td>\n",
       "      <td>0.000000</td>\n",
       "      <td>0.000000</td>\n",
       "    </tr>\n",
       "    <tr>\n",
       "      <th>25%</th>\n",
       "      <td>12286.500000</td>\n",
       "      <td>0.000000e+00</td>\n",
       "      <td>0.000000e+00</td>\n",
       "      <td>90.000000</td>\n",
       "      <td>14.577750</td>\n",
       "      <td>5.900000</td>\n",
       "      <td>120.000000</td>\n",
       "      <td>2.000000</td>\n",
       "      <td>2.000000</td>\n",
       "      <td>1.000000</td>\n",
       "      <td>13.000000</td>\n",
       "    </tr>\n",
       "    <tr>\n",
       "      <th>50%</th>\n",
       "      <td>152558.000000</td>\n",
       "      <td>5.000000e+05</td>\n",
       "      <td>1.631245e+05</td>\n",
       "      <td>100.000000</td>\n",
       "      <td>21.905500</td>\n",
       "      <td>6.500000</td>\n",
       "      <td>415.000000</td>\n",
       "      <td>3.000000</td>\n",
       "      <td>3.000000</td>\n",
       "      <td>1.000000</td>\n",
       "      <td>21.000000</td>\n",
       "    </tr>\n",
       "    <tr>\n",
       "      <th>75%</th>\n",
       "      <td>452021.750000</td>\n",
       "      <td>2.000000e+07</td>\n",
       "      <td>4.479661e+07</td>\n",
       "      <td>113.000000</td>\n",
       "      <td>40.654000</td>\n",
       "      <td>7.200000</td>\n",
       "      <td>1316.000000</td>\n",
       "      <td>3.000000</td>\n",
       "      <td>4.000000</td>\n",
       "      <td>2.000000</td>\n",
       "      <td>36.000000</td>\n",
       "    </tr>\n",
       "    <tr>\n",
       "      <th>max</th>\n",
       "      <td>922260.000000</td>\n",
       "      <td>3.800000e+08</td>\n",
       "      <td>2.847246e+09</td>\n",
       "      <td>750.000000</td>\n",
       "      <td>11474.647000</td>\n",
       "      <td>10.000000</td>\n",
       "      <td>30788.000000</td>\n",
       "      <td>16.000000</td>\n",
       "      <td>89.000000</td>\n",
       "      <td>155.000000</td>\n",
       "      <td>919590.000000</td>\n",
       "    </tr>\n",
       "  </tbody>\n",
       "</table>\n",
       "</div>"
      ],
      "text/plain": [
       "                  id        budget       revenue       runtime    popularity  \\\n",
       "count   10000.000000  1.000000e+04  1.000000e+04  10000.000000  10000.000000   \n",
       "mean   249876.829300  1.855163e+07  5.673793e+07    100.268100     51.393907   \n",
       "std    257380.109004  3.662669e+07  1.495854e+08     27.777829    216.729552   \n",
       "min         5.000000  0.000000e+00  0.000000e+00      0.000000      4.258000   \n",
       "25%     12286.500000  0.000000e+00  0.000000e+00     90.000000     14.577750   \n",
       "50%    152558.000000  5.000000e+05  1.631245e+05    100.000000     21.905500   \n",
       "75%    452021.750000  2.000000e+07  4.479661e+07    113.000000     40.654000   \n",
       "max    922260.000000  3.800000e+08  2.847246e+09    750.000000  11474.647000   \n",
       "\n",
       "            voteAvg     voteCount  genresAmount  productionCoAmount  \\\n",
       "count  10000.000000  10000.000000  10000.000000        10000.000000   \n",
       "mean       6.483490   1342.381800      2.596500            3.171400   \n",
       "std        0.984274   2564.196637      1.154565            2.539738   \n",
       "min        1.300000      1.000000      0.000000            0.000000   \n",
       "25%        5.900000    120.000000      2.000000            2.000000   \n",
       "50%        6.500000    415.000000      3.000000            3.000000   \n",
       "75%        7.200000   1316.000000      3.000000            4.000000   \n",
       "max       10.000000  30788.000000     16.000000           89.000000   \n",
       "\n",
       "       productionCountriesAmount   actorsAmount  \n",
       "count               10000.000000   10000.000000  \n",
       "mean                    1.751000    2147.666600  \n",
       "std                     3.012093   37200.075802  \n",
       "min                     0.000000       0.000000  \n",
       "25%                     1.000000      13.000000  \n",
       "50%                     1.000000      21.000000  \n",
       "75%                     2.000000      36.000000  \n",
       "max                   155.000000  919590.000000  "
      ]
     },
     "execution_count": 71,
     "metadata": {},
     "output_type": "execute_result"
    }
   ],
   "source": [
    "df.describe()"
   ]
  },
  {
   "cell_type": "markdown",
   "metadata": {},
   "source": [
    "## 2. Clasificación de Variables\n",
    "\n",
    "#### Cuantitativas\n",
    "\n",
    "##### Continuas: Popularity, Budget, Revenue, Runtime, voteAvg, actorsPopularity\n",
    "##### Discretas: Id, genresAmount, productionCoAmount, productionCountriesAmount, voteCount, actorsAmount, castWomenAmount, castMenAmount\n",
    "\n",
    "#### Cualitativas\n",
    "\n",
    "##### Nominales: Original_title, originalLanguage, Title, homePage, Video, Director, Genres, productionCompany, productionCompanyCountry, productionCountry, releaseDate, Actors, actorsCharacter.\n",
    "##### Ordinales: No se encontraron "
   ]
  },
  {
   "cell_type": "markdown",
   "metadata": {},
   "source": [
    "## 3. Diga el tipo de cada una de las variables (cualitativa ordinal o nominal, cuantitativa continua, cuantitativa discreta)"
   ]
  },
  {
   "cell_type": "code",
   "execution_count": null,
   "metadata": {},
   "outputs": [],
   "source": []
  },
  {
   "cell_type": "code",
   "execution_count": 72,
   "metadata": {},
   "outputs": [
    {
     "name": "stderr",
     "output_type": "stream",
     "text": [
      "C:\\Users\\euroc\\AppData\\Local\\Temp\\ipykernel_9372\\1924769691.py:9: UserWarning: scipy.stats.shapiro: For N > 5000, computed p-value may not be accurate. Current N is 10000.\n",
      "  stat, p_value = shapiro(df[x])\n"
     ]
    },
    {
     "name": "stdout",
     "output_type": "stream",
     "text": [
      "popularity: Estadística=0.1112, p-valor=0.0000\n",
      "La variable popularity no sigue una distribución normal.\n",
      "budget: Estadística=0.5684, p-valor=0.0000\n",
      "La variable budget no sigue una distribución normal.\n",
      "revenue: Estadística=0.4143, p-valor=0.0000\n",
      "La variable revenue no sigue una distribución normal.\n",
      "runtime: Estadística=0.8531, p-valor=0.0000\n",
      "La variable runtime no sigue una distribución normal.\n",
      "voteAvg: Estadística=0.9796, p-valor=0.0000\n",
      "La variable voteAvg no sigue una distribución normal.\n"
     ]
    },
    {
     "data": {
      "image/png": "[encoded data removed]",
      "text/plain": [
       "<Figure size 800x400 with 1 Axes>"
      ]
     },
     "metadata": {},
     "output_type": "display_data"
    },
    {
     "data": {
      "image/png": "[encoded data removed]",
      "text/plain": [
       "<Figure size 800x400 with 1 Axes>"
      ]
     },
     "metadata": {},
     "output_type": "display_data"
    },
    {
     "data": {
      "image/png": "[encoded data removed]",
      "text/plain": [
       "<Figure size 800x400 with 1 Axes>"
      ]
     },
     "metadata": {},
     "output_type": "display_data"
    },
    {
     "data": {
      "image/png": "[encoded data removed]",
      "text/plain": [
       "<Figure size 800x400 with 1 Axes>"
      ]
     },
     "metadata": {},
     "output_type": "display_data"
    },
    {
     "data": {
      "image/png": "[encoded data removed]",
      "text/plain": [
       "<Figure size 800x400 with 1 Axes>"
      ]
     },
     "metadata": {},
     "output_type": "display_data"
    }
   ],
   "source": [
    "from scipy.stats import shapiro\n",
    "\n",
    "\n",
    "\n",
    "cuant_vars = ['popularity', 'budget', 'revenue', 'runtime', 'voteAvg']\n",
    "\n",
    "\n",
    "for x in cuant_vars:\n",
    "    stat, p_value = shapiro(df[x])\n",
    "    print(f'{x}: Estadística={stat:.4f}, p-valor={p_value:.4f}')\n",
    "    if p_value > 0.05:\n",
    "        print(f'La variable {x} parece seguir una distribución normal.')\n",
    "    else:\n",
    "        print(f'La variable {x} no sigue una distribución normal.')\n",
    "\n",
    "cualitativas = ['originalTitle', 'originalLanguage', 'title', 'homePage', 'video', 'director', 'genres', \n",
    "                'productionCompany', 'productionCompanyCountry', 'productionCountry', 'releaseDate', 'actors', 'actorsCharacter']\n",
    "\n",
    "\n",
    "for variable in cuant_vars:\n",
    "    plt.figure(figsize=(8, 4))\n",
    "    sns.histplot(df[variable], kde=True)\n",
    "    plt.title(f'Distribución de {variable}')\n",
    "    plt.show()"
   ]
  },
  {
   "cell_type": "code",
   "execution_count": 73,
   "metadata": {},
   "outputs": [
    {
     "name": "stdout",
     "output_type": "stream",
     "text": [
      "\n",
      "Tabla de frecuencia para actorsCharacter:\n",
      "actorsCharacter\n",
      "||||                                                                                                                                                                                                                                                                                                                                                                                                                                     17\n",
      "|||||                                                                                                                                                                                                                                                                                                                                                                                                                                    16\n",
      "||||||                                                                                                                                                                                                                                                                                                                                                                                                                                   16\n",
      "|||                                                                                                                                                                                                                                                                                                                                                                                                                                      14\n",
      "|                                                                                                                                                                                                                                                                                                                                                                                                                                        13\n",
      "                                                                                                                                                                                                                                                                                                                                                                                                                                         ..\n",
      "Balto (voice)|Boris the Goose (voice)|Jenna (voice)|Steele the Sled Dog (voice)|Muk and Luk (voice)|Young Rosy (voice)|Nikki (voice)|Kaltag (voice)|Star (voice)|Dixie / Sylvie (voice)|Grizzly Bear (voice)|Grandma Rosy|Rosie's granddaughter                                                                                                                                                                                           1\n",
      "Taku Morisaki (voice)|Yutaka Matsuno (voice)|Rikako Mutou (voice)|Akiko Shimizu (voice)|Yumi Kohama (voice)|Okada (voice)|Taku's Mother (voice)|Girl (voice)|Minarai (voice)|Tadashi Yamao (voice)|Additional Voices (voice)|Additional Voices (voice)|Additional Voices (voice)                                                                                                                                                          1\n",
      "Dr. Gluckman / Martian Guard #1 / President (voice)|Martian Scientist / Court Attendant / Eyes At Gate (voice)|Peep / Press Girl (voice)|Commander Bristle / Martian Guard #3 (voice)|Major Buzz Blister / Martian General / Worker #3 (voice)|Grob / Gardener #1 / Martian Guard #2 (voice)|Tom / Press Guy #1 (voice)|Computer / Worker #1 / Worker #2 (voice)|Spike (voice)|Major Biff Buzzard / King Thingg / Gardener #2 (voice)     1\n",
      "Sayra|El Casper|El Smiley|Martha Marlene|El Sol|Leche/ Wounded Man|Kimberly|Resistol|Horacio|Lil' Mago|El Pícaro|Clarissa|Rosario|Tia Toña|Orlando|Yamila|Marero|El Scarface                                                                                                                                                                                                                                                              1\n",
      "922162                                                                                                                                                                                                                                                                                                                                                                                                                                    1\n",
      "Name: count, Length: 9796, dtype: int64\n"
     ]
    }
   ],
   "source": [
    "var = cualitativas.pop()\n",
    "frecuencia = df[var].value_counts()\n",
    "print(f'\\nTabla de frecuencia para {var}:\\n{frecuencia}')"
   ]
  },
  {
   "cell_type": "code",
   "execution_count": 74,
   "metadata": {},
   "outputs": [
    {
     "name": "stdout",
     "output_type": "stream",
     "text": [
      "\n",
      "Tabla de frecuencia para actors:\n",
      "actors\n",
      "FALSE                                                                                                                                                                                                                                                                                                                                                                                                                       480\n",
      "TRUE                                                                                                                                                                                                                                                                                                                                                                                                                          6\n",
      "Kim Nam-joon|Kim Seok-jin|Min Yoon-gi|Jung Ho-seok|Park Ji-min|Kim Tae-hyung|Jeon Jung-kook                                                                                                                                                                                                                                                                                                                                   3\n",
      "Minami Takayama|Wakana Yamazaki|Akira Kamiya|Kappei Yamaguchi                                                                                                                                                                                                                                                                                                                                                                 2\n",
      "Pablo Escobar                                                                                                                                                                                                                                                                                                                                                                                                                 2\n",
      "                                                                                                                                                                                                                                                                                                                                                                                                                           ... \n",
      "Chris Klein|Heather Graham|Orlando Jones|Sally Field|Richard Jenkins|John Rothman|Jack Plotnick|Eddie Cibrian|Mark Pellegrino|Brent Hinkley|Henry Cho|Richard Riehle|Brent Briscoe|Ezra Buzzington|Julie White|David L. Lander|Lin Shaye|Barrow Davis|C. Ernst Harth|Connor Widdows|Courtney Peldon|Matthew Peters|Ed Holden|Sarah Silverman|Martin Morales|Dolores Drake|Colin Foo|Jackie Flynn|Zahf Paroo|Danny Murphy      1\n",
      "James Marsden|Gary Oldman|Amy Smart|Christopher Lloyd|Chris Cooper|Matthew Edison|Paul Brogren|Wayne Robson|Michael J. Fox|John Bourgeois|Melyssa Ade|Roz Michaels|Amy Stewart|Mark Lutz|Krista Leis|Michael Rhoades|Amy Jo Johnson|Deborah Odell|Jonathan Whittaker|Ann-Margret|Art Evans|Kurt Russell|Ho Chow                                                                                                               1\n",
      "Kenichi Matsuyama|Narushi Fukuda|Mayuko Fukuda|Shingo Tsurumi|Youki Kudoh|Sei Hiraizumi|Bokuzo Masana|Yuta Kanai|Megumi Sato|Renji Ishibashi|Kiyotaka Nanbara|Masanobu Takashima|Shunji Fujimura|Kazuki Namioka|Hao Ganhane|Erika Toda|Asaka Seto|Yoji Tanaka|Tatsuya Fujiwara|Ayui Naisora|Tim Man                                                                                                                           1\n",
      "Jay Chou|Gwei Lun-mei|Anthony Wong|Alice Tzeng|So Ming-Ming|Huang Jun-Lang|Devon Song|Zhan Yu-Hao|Chase Chang|Aviis Zhong|David Chang Hsun-Wei|Funky Tu|Tianze (Michael) Lin|Chou Yao-Chung|Du Guo-Zhang|Zhou Yao-Zhong|Huang Xin-Yu                                                                                                                                                                                          1\n",
      "Shaffy Bello-Akinrimisi|Funke Akindele|Joke Silva|Kate Henshaw-Nuttal|Rahama Sadau|Mawuli Gavor|Beverly Naya|Falz|Linda Ejiofor|Beverly Osu|Broda Shaggi|Williams Uzor Arukwe|Zainab Balogun|Dakore Egbuson-Akande|Rachel Oniga|Chigul|Nedu Wazobia                                                                                                                                                                           1\n",
      "Name: count, Length: 9423, dtype: int64\n"
     ]
    }
   ],
   "source": [
    "var = cualitativas.pop()\n",
    "frecuencia = df[var].value_counts()\n",
    "print(f'\\nTabla de frecuencia para {var}:\\n{frecuencia}')"
   ]
  },
  {
   "cell_type": "code",
   "execution_count": 75,
   "metadata": {},
   "outputs": [
    {
     "name": "stdout",
     "output_type": "stream",
     "text": [
      "\n",
      "Tabla de frecuencia para releaseDate:\n",
      "releaseDate\n",
      "2021-10-08    15\n",
      "2021-02-12    15\n",
      "2021-10-01    14\n",
      "2021-11-12    12\n",
      "2019-11-08    11\n",
      "              ..\n",
      "2006-10-21     1\n",
      "1948-05-27     1\n",
      "1998-08-04     1\n",
      "2008-08-29     1\n",
      "2021-10-31     1\n",
      "Name: count, Length: 5568, dtype: int64\n"
     ]
    }
   ],
   "source": [
    "var = cualitativas.pop()\n",
    "frecuencia = df[var].value_counts()\n",
    "print(f'\\nTabla de frecuencia para {var}:\\n{frecuencia}')"
   ]
  },
  {
   "cell_type": "code",
   "execution_count": 76,
   "metadata": {},
   "outputs": [
    {
     "name": "stdout",
     "output_type": "stream",
     "text": [
      "\n",
      "Tabla de frecuencia para productionCountry:\n",
      "productionCountry\n",
      "United States of America                                4971\n",
      "Japan                                                    613\n",
      "United Kingdom|United States of America                  339\n",
      "United Kingdom                                           294\n",
      "Canada|United States of America                          223\n",
      "                                                        ... \n",
      "United States of America|Norway|Sweden                     1\n",
      "Mexico|Taiwan|United States of America                     1\n",
      "Canada|China|Japan|United States of America                1\n",
      "China|Canada|United States of America|United Kingdom       1\n",
      "Ecuador                                                    1\n",
      "Name: count, Length: 879, dtype: int64\n"
     ]
    }
   ],
   "source": [
    "var = cualitativas.pop()\n",
    "frecuencia = df[var].value_counts()\n",
    "print(f'\\nTabla de frecuencia para {var}:\\n{frecuencia}')"
   ]
  },
  {
   "cell_type": "code",
   "execution_count": 77,
   "metadata": {},
   "outputs": [
    {
     "name": "stdout",
     "output_type": "stream",
     "text": [
      "\n",
      "Tabla de frecuencia para productionCompanyCountry:\n",
      "productionCompanyCountry\n",
      "US                       997\n",
      "US|US                    792\n",
      "US|US|US                 452\n",
      "|US                      292\n",
      "US|                      265\n",
      "                        ... \n",
      "|FR||BE|FR||FR|FR|FR       1\n",
      "GB|DK||SE|DK|GB|IE|IE      1\n",
      "FR|FR||FR|CA|BE            1\n",
      "US|JP|KR|JP                1\n",
      "CO|CO                      1\n",
      "Name: count, Length: 2354, dtype: int64\n"
     ]
    }
   ],
   "source": [
    "var = cualitativas.pop()\n",
    "frecuencia = df[var].value_counts()\n",
    "print(f'\\nTabla de frecuencia para {var}:\\n{frecuencia}')"
   ]
  },
  {
   "cell_type": "code",
   "execution_count": 78,
   "metadata": {},
   "outputs": [
    {
     "name": "stdout",
     "output_type": "stream",
     "text": [
      "\n",
      "Tabla de frecuencia para productionCompany:\n",
      "productionCompany\n",
      "Paramount                                                                                                  55\n",
      "Universal Pictures                                                                                         50\n",
      "Warner Bros. Pictures                                                                                      37\n",
      "Toei Animation                                                                                             34\n",
      "DreamWorks Animation                                                                                       33\n",
      "                                                                                                           ..\n",
      "PSC|Toho                                                                                                    1\n",
      "Martini Films|Paramount Famous Productions|Pure Pictures Entertainment|North by Northwest Entertainment     1\n",
      "DreamWorks Home Entertainment                                                                               1\n",
      "Omega Project|AtomFilms|Nemuru Otoko Seisaku Iinkai                                                         1\n",
      "Central Partnership|KIT Film Studio                                                                         1\n",
      "Name: count, Length: 8163, dtype: int64\n"
     ]
    }
   ],
   "source": [
    "var = cualitativas.pop()\n",
    "frecuencia = df[var].value_counts()\n",
    "print(f'\\nTabla de frecuencia para {var}:\\n{frecuencia}')"
   ]
  },
  {
   "cell_type": "code",
   "execution_count": 79,
   "metadata": {},
   "outputs": [
    {
     "name": "stdout",
     "output_type": "stream",
     "text": [
      "\n",
      "Tabla de frecuencia para genres:\n",
      "genres\n",
      "Drama                                  521\n",
      "Comedy                                 440\n",
      "Horror                                 230\n",
      "Drama|Romance                          211\n",
      "Horror|Thriller                        205\n",
      "                                      ... \n",
      "Animation|Horror|Action|Comedy           1\n",
      "Science Fiction|Comedy|Adventure         1\n",
      "War|Action|Adventure|Drama|Thriller      1\n",
      "Horror|Comedy|Fantasy|Thriller           1\n",
      "Documentary|Animation|History            1\n",
      "Name: count, Length: 2345, dtype: int64\n"
     ]
    }
   ],
   "source": [
    "var = cualitativas.pop()\n",
    "frecuencia = df[var].value_counts()\n",
    "print(f'\\nTabla de frecuencia para {var}:\\n{frecuencia}')"
   ]
  },
  {
   "cell_type": "code",
   "execution_count": 80,
   "metadata": {},
   "outputs": [
    {
     "name": "stdout",
     "output_type": "stream",
     "text": [
      "\n",
      "Tabla de frecuencia para director:\n",
      "director\n",
      "Steven Spielberg                                                                                                     29\n",
      "Clint Eastwood                                                                                                       28\n",
      "Ridley Scott                                                                                                         23\n",
      "Martin Scorsese                                                                                                      19\n",
      "Kunihiko Yuyama                                                                                                      19\n",
      "                                                                                                                     ..\n",
      "Kevin Farley                                                                                                          1\n",
      "Jürgen Brüning|Kristian Petersen|Todd Verow|Maria Beatty|Bruce LaBruce|Courtney Trouble|Manuela Kay|Émilie Jouvet     1\n",
      "Doug Ellin                                                                                                            1\n",
      "Ruairi Robinson                                                                                                       1\n",
      "Alexandr Babaev                                                                                                       1\n",
      "Name: count, Length: 5330, dtype: int64\n"
     ]
    }
   ],
   "source": [
    "var = cualitativas.pop()\n",
    "frecuencia = df[var].value_counts()\n",
    "print(f'\\nTabla de frecuencia para {var}:\\n{frecuencia}')"
   ]
  },
  {
   "cell_type": "code",
   "execution_count": 81,
   "metadata": {},
   "outputs": [
    {
     "name": "stdout",
     "output_type": "stream",
     "text": [
      "\n",
      "Tabla de frecuencia para video:\n",
      "video\n",
      "False    9430\n",
      "True       84\n",
      "Name: count, dtype: int64\n"
     ]
    }
   ],
   "source": [
    "var = cualitativas.pop()\n",
    "frecuencia = df[var].value_counts()\n",
    "print(f'\\nTabla de frecuencia para {var}:\\n{frecuencia}')"
   ]
  },
  {
   "cell_type": "code",
   "execution_count": 82,
   "metadata": {},
   "outputs": [
    {
     "name": "stdout",
     "output_type": "stream",
     "text": [
      "\n",
      "Tabla de frecuencia para homePage:\n",
      "homePage\n",
      "http://www.naruto-movie.com/                          6\n",
      "http://www.thehungergames.movie/                      4\n",
      "http://www.p3m.jp/                                    3\n",
      "http://www.kungfupanda.com/                           3\n",
      "http://kizumonogatari-usa.com/                        3\n",
      "                                                     ..\n",
      "http://www.lemonademouth.com                          1\n",
      "http://warnervideo.com/greenlanternemeraldknights/    1\n",
      "http://www.loversguide.com/                           1\n",
      "http://dragontattoo.com/                              1\n",
      "https://www.netflix.com/title/81425229                1\n",
      "Name: count, Length: 4125, dtype: int64\n"
     ]
    }
   ],
   "source": [
    "var = cualitativas.pop()\n",
    "frecuencia = df[var].value_counts()\n",
    "print(f'\\nTabla de frecuencia para {var}:\\n{frecuencia}')"
   ]
  },
  {
   "cell_type": "code",
   "execution_count": 83,
   "metadata": {},
   "outputs": [
    {
     "name": "stdout",
     "output_type": "stream",
     "text": [
      "\n",
      "Tabla de frecuencia para title:\n",
      "title\n",
      "Pinocchio        4\n",
      "Cinderella       4\n",
      "Carrie           3\n",
      "The Courier      3\n",
      "Awake            3\n",
      "                ..\n",
      "Blind Horizon    1\n",
      "Chasing Papi     1\n",
      "The Eye 2        1\n",
      "An Education     1\n",
      "Row 19           1\n",
      "Name: count, Length: 9697, dtype: int64\n"
     ]
    }
   ],
   "source": [
    "var = cualitativas.pop()\n",
    "frecuencia = df[var].value_counts()\n",
    "print(f'\\nTabla de frecuencia para {var}:\\n{frecuencia}')"
   ]
  },
  {
   "cell_type": "code",
   "execution_count": 84,
   "metadata": {},
   "outputs": [
    {
     "name": "stdout",
     "output_type": "stream",
     "text": [
      "\n",
      "Tabla de frecuencia para originalLanguage:\n",
      "originalLanguage\n",
      "en    7772\n",
      "ja     644\n",
      "es     425\n",
      "fr     271\n",
      "ko     167\n",
      "zh     119\n",
      "it     100\n",
      "de      84\n",
      "cn      80\n",
      "ru      67\n",
      "pt      43\n",
      "no      28\n",
      "sv      27\n",
      "hi      27\n",
      "da      27\n",
      "nl      18\n",
      "th      17\n",
      "pl      15\n",
      "id      12\n",
      "tr      10\n",
      "fi       8\n",
      "tl       5\n",
      "te       5\n",
      "sr       4\n",
      "is       4\n",
      "fa       3\n",
      "ro       2\n",
      "cs       2\n",
      "el       2\n",
      "uk       2\n",
      "ms       1\n",
      "ml       1\n",
      "ta       1\n",
      "la       1\n",
      "he       1\n",
      "ar       1\n",
      "eu       1\n",
      "bn       1\n",
      "nb       1\n",
      "ca       1\n",
      "Name: count, dtype: int64\n"
     ]
    }
   ],
   "source": [
    "var = cualitativas.pop()\n",
    "frecuencia = df[var].value_counts()\n",
    "print(f'\\nTabla de frecuencia para {var}:\\n{frecuencia}')"
   ]
  },
  {
   "cell_type": "code",
   "execution_count": 85,
   "metadata": {},
   "outputs": [
    {
     "name": "stdout",
     "output_type": "stream",
     "text": [
      "\n",
      "Tabla de frecuencia para originalTitle:\n",
      "originalTitle\n",
      "Pinocchio                                                4\n",
      "Great Expectations                                       3\n",
      "Escape Room                                              3\n",
      "The Courier                                              3\n",
      "Alice in Wonderland                                      3\n",
      "                                                        ..\n",
      "Into the Sun                                             1\n",
      "The Land Before Time X: The Great Longneck Migration     1\n",
      "The Land Before Time XI: Invasion of the Tinysauruses    1\n",
      "Dug's Special Mission                                    1\n",
      "Row 19                                                   1\n",
      "Name: count, Length: 9760, dtype: int64\n"
     ]
    }
   ],
   "source": [
    "var = cualitativas.pop()\n",
    "frecuencia = df[var].value_counts()\n",
    "print(f'\\nTabla de frecuencia para {var}:\\n{frecuencia}')"
   ]
  },
  {
   "cell_type": "markdown",
   "metadata": {},
   "source": [
    "## Resultados\n",
    "\n",
    "#### De las variables cuantitativas ninguna superó el test de shapiro, el cual indica si una variable sigue una distribución normal o no. A pesar de ello, la variable vote_Avg muestra una forma similar a una distribución normal.\n",
    "\n",
    "#### En cuanto a las variables cualitativas, sus frecuencias indican que, en la mayoría de casos, se encuentra un valor dominante. Para el resto de valores siempre se encuentran frecuencias muy diminutas en comparación."
   ]
  },
  {
   "cell_type": "markdown",
   "metadata": {},
   "source": [
    "# ¿Cuáles son las 10 películas que contaron con más presupuesto?"
   ]
  },
  {
   "cell_type": "code",
   "execution_count": 88,
   "metadata": {},
   "outputs": [
    {
     "name": "stdout",
     "output_type": "stream",
     "text": [
      "                                            title     budget\n",
      "716   Pirates of the Caribbean: On Stranger Tides  380000000\n",
      "4710                      Avengers: Age of Ultron  365000000\n",
      "5952                            Avengers: Endgame  356000000\n",
      "4953                               Justice League  300000000\n",
      "5953                       Avengers: Infinity War  300000000\n",
      "163      Pirates of the Caribbean: At World's End  300000000\n",
      "607                              Superman Returns  270000000\n",
      "7134                                The Lion King  260000000\n",
      "3791                                      Tangled  260000000\n",
      "280                                  Spider-Man 3  258000000\n"
     ]
    }
   ],
   "source": [
    "budget_10 = df.sort_values(by='budget', ascending=False)\n",
    "top_10 = budget_10.head(10)[['title', 'budget']]\n",
    "print(top_10)"
   ]
  },
  {
   "cell_type": "markdown",
   "metadata": {},
   "source": [
    "# ¿Cuáles son las 10 películas que más ingresos tuvieron?"
   ]
  },
  {
   "cell_type": "code",
   "execution_count": 89,
   "metadata": {},
   "outputs": [
    {
     "name": "stdout",
     "output_type": "stream",
     "text": [
      "                                            title       revenue\n",
      "716   Pirates of the Caribbean: On Stranger Tides  1.045714e+09\n",
      "4710                      Avengers: Age of Ultron  1.405404e+09\n",
      "5952                            Avengers: Endgame  2.797801e+09\n",
      "4953                               Justice League  6.579243e+08\n",
      "5953                       Avengers: Infinity War  2.046240e+09\n",
      "163      Pirates of the Caribbean: At World's End  9.610000e+08\n",
      "607                              Superman Returns  3.910812e+08\n",
      "7134                                The Lion King  1.667635e+09\n",
      "3791                                      Tangled  5.924617e+08\n",
      "280                                  Spider-Man 3  8.908716e+08\n"
     ]
    }
   ],
   "source": [
    "rev_10 = df.sort_values(by='revenue', ascending=False)\n",
    "top_10 = budget_10.head(10)[['title', 'revenue']]\n",
    "print(top_10)"
   ]
  },
  {
   "cell_type": "markdown",
   "metadata": {},
   "source": [
    "# ¿Cuál es la película que más votos tuvo?"
   ]
  },
  {
   "cell_type": "code",
   "execution_count": 90,
   "metadata": {},
   "outputs": [
    {
     "name": "stdout",
     "output_type": "stream",
     "text": [
      "                        title  voteCount\n",
      "3511                Inception      30788\n",
      "5027             Interstellar      27644\n",
      "87            The Dark Knight      26690\n",
      "3397             The Avengers      26215\n",
      "5889                 Deadpool      26178\n",
      "3210                   Avatar      24766\n",
      "4825  Guardians of the Galaxy      23806\n",
      "5953   Avengers: Infinity War      23715\n",
      "275                Fight Club      23338\n",
      "374              Pulp Fiction      22501\n"
     ]
    }
   ],
   "source": [
    "budget_10 = df.sort_values(by='voteCount', ascending=False)\n",
    "top_10 = budget_10.head(10)[['title', 'voteCount']]\n",
    "print(top_10)"
   ]
  },
  {
   "cell_type": "markdown",
   "metadata": {},
   "source": [
    "# ¿Cuál es la peor película de acuerdo a los votos de todos los usuarios?"
   ]
  },
  {
   "cell_type": "markdown",
   "metadata": {},
   "source": [
    "# ¿Cuántas películas se hicieron en cada año? ¿En qué año se hicieron más películas? Haga un gráfico de barras"
   ]
  },
  {
   "cell_type": "markdown",
   "metadata": {},
   "source": [
    "# ¿Cuál es el género principal de las 20 películas más recientes? ¿Cuál es el género principal que predomina en el conjunto de datos? Represéntelo usando un gráfico"
   ]
  },
  {
   "cell_type": "markdown",
   "metadata": {},
   "source": [
    "# ¿Las películas de qué género principal obtuvieron mayores ganancias ?"
   ]
  },
  {
   "cell_type": "markdown",
   "metadata": {},
   "source": [
    "# ¿La cantidad de actores influye en los ingresos de las películas? ¿Se han hecho películas con más actores en los últimos años?"
   ]
  },
  {
   "cell_type": "markdown",
   "metadata": {},
   "source": [
    "# ¿Es posible que la cantidad de hombres y mujeres en el reparto influya en la popularidad y los ingresos de las películas?"
   ]
  },
  {
   "cell_type": "markdown",
   "metadata": {},
   "source": [
    "# ¿Quiénes son los directores que hicieron las 20 películas mejor calificadas?"
   ]
  },
  {
   "cell_type": "markdown",
   "metadata": {},
   "source": [
    "# ¿Cómo se correlacionan los presupuestos con los ingresos? ¿Los altos presupuestos significan altos ingresos? Haga los gráficos que necesite, histograma, diagrama de dispersión"
   ]
  },
  {
   "cell_type": "markdown",
   "metadata": {},
   "source": [
    "# ¿Se asocian ciertos meses de lanzamiento con mejores ingresos?"
   ]
  },
  {
   "cell_type": "markdown",
   "metadata": {},
   "source": [
    "# ¿En qué meses se han visto los lanzamientos con mejores ingresos? ¿Cuántas películas, en promedio, se han lanzado por mes?"
   ]
  },
  {
   "cell_type": "markdown",
   "metadata": {},
   "source": [
    "# ¿Cómo se correlacionan las calificaciones con el éxito comercial?"
   ]
  },
  {
   "cell_type": "markdown",
   "metadata": {},
   "source": [
    "# ¿A qué género principal pertenecen las películas más largas?"
   ]
  }
 ],
 "metadata": {
  "kernelspec": {
   "display_name": ".venv",
   "language": "python",
   "name": "python3"
  },
  "language_info": {
   "codemirror_mode": {
    "name": "ipython",
    "version": 3
   },
   "file_extension": ".py",
   "mimetype": "text/x-python",
   "name": "python",
   "nbconvert_exporter": "python",
   "pygments_lexer": "ipython3",
   "version": "3.9.13"
  }
 },
 "nbformat": 4,
 "nbformat_minor": 2
}
