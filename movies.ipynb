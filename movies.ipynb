{
 "cells": [
  {
   "cell_type": "markdown",
   "metadata": {},
   "source": [
    "- Ricardo Méndez 21289\n",
    "- Sara Echeverría 21371\n",
    "- Sebastián Juárez 21471"
   ]
  },
  {
   "cell_type": "code",
   "execution_count": null,
   "metadata": {},
   "outputs": [],
   "source": [
    "import matplotlib\n",
    "import pandas as pd\n",
    "import numpy as np\n",
    "\n",
    "import matplotlib.pyplot as plt\n",
    "\n",
    "plt.style.use('ggplot')\n",
    "\n",
    "import numpy as np\n",
    "import pandas as pd\n",
    "import seaborn as sns\n",
    "from collections import Counter\n",
    "from sklearn.neighbors import KNeighborsClassifier\n",
    "from sklearn.metrics import accuracy_score"
   ]
  },
  {
   "cell_type": "code",
   "execution_count": null,
   "metadata": {},
   "outputs": [],
   "source": [
    "df = pd.read_csv('data/movies.csv', encoding='latin1')\n",
    "df.head()"
   ]
  },
  {
   "cell_type": "markdown",
   "metadata": {},
   "source": [
    "## 1. Resumen del conjunto de datos.\n",
    "\n",
    "##### El conjunto de datos proporcionado contiene información sobre películas, incluyendo características como el presupuesto, ingresos, duración, género, fecha de lanzamiento, votos, actores, entre otros. Aproximadamente la mitad de las variables encontradas son cualitativas y la otra mitad cuantitativas."
   ]
  },
  {
   "cell_type": "code",
   "execution_count": null,
   "metadata": {},
   "outputs": [],
   "source": [
    "df.describe()"
   ]
  },
  {
   "cell_type": "markdown",
   "metadata": {},
   "source": [
    "## 2. Clasificación de Variables\n",
    "\n",
    "#### Cuantitativas\n",
    "\n",
    "##### Continuas: Popularity, Budget, Revenue, Runtime, voteAvg, actorsPopularity\n",
    "##### Discretas: Id, genresAmount, productionCoAmount, productionCountriesAmount, voteCount, actorsAmount, castWomenAmount, castMenAmount\n",
    "\n",
    "#### Cualitativas\n",
    "\n",
    "##### Nominales: Original_title, originalLanguage, Title, homePage, Video, Director, Genres, productionCompany, productionCompanyCountry, productionCountry, releaseDate, Actors, actorsCharacter.\n",
    "##### Ordinales: No se encontraron "
   ]
  },
  {
   "cell_type": "markdown",
   "metadata": {},
   "source": [
    "## 3. Diga el tipo de cada una de las variables (cualitativa ordinal o nominal, cuantitativa continua, cuantitativa discreta)"
   ]
  },
  {
   "cell_type": "code",
   "execution_count": null,
   "metadata": {},
   "outputs": [],
   "source": []
  },
  {
   "cell_type": "code",
   "execution_count": null,
   "metadata": {},
   "outputs": [],
   "source": [
    "from scipy.stats import shapiro\n",
    "\n",
    "\n",
    "\n",
    "cuant_vars = ['popularity', 'budget', 'revenue', 'runtime', 'voteAvg']\n",
    "\n",
    "\n",
    "for x in cuant_vars:\n",
    "    stat, p_value = shapiro(df[x])\n",
    "    print(f'{x}: Estadística={stat:.4f}, p-valor={p_value:.4f}')\n",
    "    if p_value > 0.05:\n",
    "        print(f'La variable {x} parece seguir una distribución normal.')\n",
    "    else:\n",
    "        print(f'La variable {x} no sigue una distribución normal.')\n",
    "\n",
    "cualitativas = ['originalTitle', 'originalLanguage', 'title', 'homePage', 'video', 'director', 'genres', \n",
    "                'productionCompany', 'productionCompanyCountry', 'productionCountry', 'releaseDate', 'actors', 'actorsCharacter']\n",
    "\n",
    "\n",
    "for variable in cuant_vars:\n",
    "    plt.figure(figsize=(8, 4))\n",
    "    sns.histplot(df[variable], kde=True)\n",
    "    plt.title(f'Distribución de {variable}')\n",
    "    plt.show()"
   ]
  },
  {
   "cell_type": "code",
   "execution_count": null,
   "metadata": {},
   "outputs": [],
   "source": [
    "var = cualitativas.pop()\n",
    "frecuencia = df[var].value_counts()\n",
    "print(f'\\nTabla de frecuencia para {var}:\\n{frecuencia}')"
   ]
  },
  {
   "cell_type": "code",
   "execution_count": null,
   "metadata": {},
   "outputs": [],
   "source": [
    "var = cualitativas.pop()\n",
    "frecuencia = df[var].value_counts()\n",
    "print(f'\\nTabla de frecuencia para {var}:\\n{frecuencia}')"
   ]
  },
  {
   "cell_type": "code",
   "execution_count": null,
   "metadata": {},
   "outputs": [],
   "source": [
    "var = cualitativas.pop()\n",
    "frecuencia = df[var].value_counts()\n",
    "print(f'\\nTabla de frecuencia para {var}:\\n{frecuencia}')"
   ]
  },
  {
   "cell_type": "code",
   "execution_count": null,
   "metadata": {},
   "outputs": [],
   "source": [
    "var = cualitativas.pop()\n",
    "frecuencia = df[var].value_counts()\n",
    "print(f'\\nTabla de frecuencia para {var}:\\n{frecuencia}')"
   ]
  },
  {
   "cell_type": "code",
   "execution_count": null,
   "metadata": {},
   "outputs": [],
   "source": [
    "var = cualitativas.pop()\n",
    "frecuencia = df[var].value_counts()\n",
    "print(f'\\nTabla de frecuencia para {var}:\\n{frecuencia}')"
   ]
  },
  {
   "cell_type": "code",
   "execution_count": null,
   "metadata": {},
   "outputs": [],
   "source": [
    "var = cualitativas.pop()\n",
    "frecuencia = df[var].value_counts()\n",
    "print(f'\\nTabla de frecuencia para {var}:\\n{frecuencia}')"
   ]
  },
  {
   "cell_type": "code",
   "execution_count": null,
   "metadata": {},
   "outputs": [],
   "source": [
    "var = cualitativas.pop()\n",
    "frecuencia = df[var].value_counts()\n",
    "print(f'\\nTabla de frecuencia para {var}:\\n{frecuencia}')"
   ]
  },
  {
   "cell_type": "code",
   "execution_count": null,
   "metadata": {},
   "outputs": [],
   "source": [
    "var = cualitativas.pop()\n",
    "frecuencia = df[var].value_counts()\n",
    "print(f'\\nTabla de frecuencia para {var}:\\n{frecuencia}')"
   ]
  },
  {
   "cell_type": "code",
   "execution_count": null,
   "metadata": {},
   "outputs": [],
   "source": [
    "var = cualitativas.pop()\n",
    "frecuencia = df[var].value_counts()\n",
    "print(f'\\nTabla de frecuencia para {var}:\\n{frecuencia}')"
   ]
  },
  {
   "cell_type": "code",
   "execution_count": null,
   "metadata": {},
   "outputs": [],
   "source": [
    "var = cualitativas.pop()\n",
    "frecuencia = df[var].value_counts()\n",
    "print(f'\\nTabla de frecuencia para {var}:\\n{frecuencia}')"
   ]
  },
  {
   "cell_type": "code",
   "execution_count": null,
   "metadata": {},
   "outputs": [],
   "source": [
    "var = cualitativas.pop()\n",
    "frecuencia = df[var].value_counts()\n",
    "print(f'\\nTabla de frecuencia para {var}:\\n{frecuencia}')"
   ]
  },
  {
   "cell_type": "code",
   "execution_count": null,
   "metadata": {},
   "outputs": [],
   "source": [
    "var = cualitativas.pop()\n",
    "frecuencia = df[var].value_counts()\n",
    "print(f'\\nTabla de frecuencia para {var}:\\n{frecuencia}')"
   ]
  },
  {
   "cell_type": "code",
   "execution_count": null,
   "metadata": {},
   "outputs": [],
   "source": [
    "var = cualitativas.pop()\n",
    "frecuencia = df[var].value_counts()\n",
    "print(f'\\nTabla de frecuencia para {var}:\\n{frecuencia}')"
   ]
  },
  {
   "cell_type": "markdown",
   "metadata": {},
   "source": [
    "## Resultados\n",
    "\n",
    "#### De las variables cuantitativas ninguna superó el test de shapiro, el cual indica si una variable sigue una distribución normal o no. A pesar de ello, la variable vote_Avg muestra una forma similar a una distribución normal.\n",
    "\n",
    "#### En cuanto a las variables cualitativas, sus frecuencias indican que, en la mayoría de casos, se encuentra un valor dominante. Para el resto de valores siempre se encuentran frecuencias muy diminutas en comparación."
   ]
  },
  {
   "cell_type": "markdown",
   "metadata": {},
   "source": [
    "# ¿Cuáles son las 10 películas que contaron con más presupuesto?"
   ]
  },
  {
   "cell_type": "code",
   "execution_count": null,
   "metadata": {},
   "outputs": [],
   "source": [
    "budget_10 = df.sort_values(by='budget', ascending=False)\n",
    "top_10 = budget_10.head(10)[['title', 'budget']]\n",
    "print(top_10)"
   ]
  },
  {
   "cell_type": "markdown",
   "metadata": {},
   "source": [
    "# ¿Cuáles son las 10 películas que más ingresos tuvieron?"
   ]
  },
  {
   "cell_type": "code",
   "execution_count": null,
   "metadata": {},
   "outputs": [],
   "source": [
    "rev_10 = df.sort_values(by='revenue', ascending=False)\n",
    "top_10 = budget_10.head(10)[['title', 'revenue']]\n",
    "print(top_10)"
   ]
  },
  {
   "cell_type": "markdown",
   "metadata": {},
   "source": [
    "# ¿Cuál es la película que más votos tuvo?"
   ]
  },
  {
   "cell_type": "code",
   "execution_count": null,
   "metadata": {},
   "outputs": [],
   "source": [
    "budget_10 = df.sort_values(by='voteCount', ascending=False)\n",
    "top_10 = budget_10.head(10)[['title', 'voteCount']]\n",
    "print(top_10)"
   ]
  },
  {
   "cell_type": "markdown",
   "metadata": {},
   "source": [
    "# ¿Cuál es la peor película de acuerdo a los votos de todos los usuarios?"
   ]
  },
  {
   "cell_type": "markdown",
   "metadata": {},
   "source": [
    "# ¿Cuántas películas se hicieron en cada año? ¿En qué año se hicieron más películas? Haga un gráfico de barras"
   ]
  },
  {
   "cell_type": "markdown",
   "metadata": {},
   "source": [
    "# ¿Cuál es el género principal de las 20 películas más recientes? ¿Cuál es el género principal que predomina en el conjunto de datos? Represéntelo usando un gráfico"
   ]
  },
  {
   "cell_type": "markdown",
   "metadata": {},
   "source": [
    "# ¿Las películas de qué género principal obtuvieron mayores ganancias ?"
   ]
  },
  {
   "cell_type": "markdown",
   "metadata": {},
   "source": [
    "# ¿La cantidad de actores influye en los ingresos de las películas? ¿Se han hecho películas con más actores en los últimos años?"
   ]
  },
  {
   "cell_type": "markdown",
   "metadata": {},
   "source": [
    "# ¿Es posible que la cantidad de hombres y mujeres en el reparto influya en la popularidad y los ingresos de las películas?"
   ]
  },
  {
   "cell_type": "markdown",
   "metadata": {},
   "source": [
    "# ¿Quiénes son los directores que hicieron las 20 películas mejor calificadas?"
   ]
  },
  {
   "cell_type": "code",
   "execution_count": null,
   "metadata": {},
   "outputs": [],
   "source": [
    "sorted_df = df.sort_values(by='voteAvg', ascending=False)\n",
    "\n",
    "top_20_movies = sorted_df.head(20)\n",
    "\n",
    "directors = top_20_movies['director']\n",
    "\n",
    "for index, row in df.iterrows():\n",
    "    print(f\"Pelicula: {row['originalTitle']}, Director/es: {row['director']}\")\n"
   ]
  },
  {
   "cell_type": "markdown",
   "metadata": {},
   "source": [
    "# ¿Cómo se correlacionan los presupuestos con los ingresos? ¿Los altos presupuestos significan altos ingresos? Haga los gráficos que necesite, histograma, diagrama de dispersión"
   ]
  },
  {
   "cell_type": "code",
   "execution_count": null,
   "metadata": {},
   "outputs": [],
   "source": [
    "# Diagrama de dispersión\n",
    "plt.figure(figsize=(10, 6))\n",
    "sns.scatterplot(x='budget', y='revenue', data=df)\n",
    "plt.title('Diagrama de Dispersión: Presupuesto vs Ingresos')\n",
    "plt.xlabel('Presupuesto')\n",
    "plt.ylabel('Ingresos')\n",
    "plt.show()\n",
    "\n",
    "correlation = df['budget'].corr(df['revenue'])\n",
    "plt.text(0.1, 0.9, f'Correlación: {correlation:.2f}', transform=plt.gca().transAxes, fontsize=12, verticalalignment='top')\n",
    "\n",
    "# Histograma de presupuestos\n",
    "plt.figure(figsize=(10, 6))\n",
    "sns.histplot(df['budget'], bins=30, kde=True)\n",
    "plt.title('Histograma de Presupuestos')\n",
    "plt.xlabel('Presupuesto')\n",
    "plt.ylabel('Frecuencia')\n",
    "plt.show()\n",
    "\n",
    "# Histograma de ingresos\n",
    "plt.figure(figsize=(10, 6))\n",
    "sns.histplot(df['revenue'], bins=30, kde=True)\n",
    "plt.title('Histograma de Ingresos')\n",
    "plt.xlabel('Ingresos')\n",
    "plt.ylabel('Frecuencia')\n",
    "plt.show()"
   ]
  },
  {
   "cell_type": "markdown",
   "metadata": {},
   "source": [
    "### Histograma de presupuestos vs ingresos\n",
    "En el primer grafico de presupuestos vs ingresos, podemos ver que realmente hay una relacion lineal, aunque no muy fuerte, ya que los puntos estan dipersos y no muestran un patron claro. Pero luego podemos calcular la correlación de estas dos variables, que es lo que se puede ver luego del primer grafico, y vemos que tiene un valor cercano a 1, lo que indicaría una correlación positiva fuerte o que los altos presupuestos están asociados con altos ingresos. A pesar de todo esto, hay varios valores que pueden afectar el resultado final, por lo que no se puede tomar este valor como absoluto.\n",
    "\n",
    "### Histograma de presupuestos\n",
    "Cada barra en el histograma muestra cuántas películas tienen un presupuesto que cae dentro del rango especificado por esa barra. Ya que la distribución es sesgada hacia la izquierda, los datos nos indican que la mayoría de las películas tienen presupuestos más bajos.\n",
    "\n",
    "### Histograma de ingresos\n",
    "Similar al histograma de presupuestos, cada barra muestra cuántas películas tienen ingresos que caen dentro del rango especificado por esa barra. Ya que este igualmente tiene un sesgo hacia la izquierda, los datos nos indican que la mayoría de las películas tienen ingresos más bajos."
   ]
  },
  {
   "cell_type": "markdown",
   "metadata": {},
   "source": [
    "# ¿Se asocian ciertos meses de lanzamiento con mejores ingresos?"
   ]
  },
  {
   "cell_type": "code",
   "execution_count": null,
   "metadata": {},
   "outputs": [],
   "source": [
    "\n",
    "df['releaseMonth'] = pd.to_datetime(df['releaseDate']).dt.month\n",
    "\n",
    "# Caja y bigotes de ingresos según el mes de lanzamiento\n",
    "plt.figure(figsize=(12, 6))\n",
    "sns.boxplot(x='releaseMonth', y='revenue', data=df, showfliers=False)\n",
    "plt.title('Distribución de Ingresos por Mes de Lanzamiento')\n",
    "plt.xlabel('Mes de Lanzamiento')\n",
    "plt.ylabel('Ingresos')\n",
    "plt.xticks(ticks=range(1, 13), labels=['Ene', 'Feb', 'Mar', 'Abr', 'May', 'Jun', 'Jul', 'Ago', 'Sep', 'Oct', 'Nov', 'Dic'])\n",
    "plt.show()\n",
    "\n",
    "# Gráfico de barras para el promedio de ingresos por mes\n",
    "avg_revenue_by_month = df.groupby('releaseMonth')['revenue'].mean()\n",
    "plt.figure(figsize=(12, 6))\n",
    "sns.barplot(x=avg_revenue_by_month.index, y=avg_revenue_by_month.values, palette='viridis')\n",
    "plt.title('Promedio de Ingresos por Mes de Lanzamiento')\n",
    "plt.xlabel('Mes de Lanzamiento')\n",
    "plt.ylabel('Promedio de Ingresos')\n",
    "plt.xticks(ticks=range(1, 13), labels=['Ene', 'Feb', 'Mar', 'Abr', 'May', 'Jun', 'Jul', 'Ago', 'Sep', 'Oct', 'Nov', 'Dic'])\n",
    "plt.show()"
   ]
  },
  {
   "cell_type": "markdown",
   "metadata": {},
   "source": [
    "### Distribución de Ingresos por Mes de Lanzamiento\n",
    "En este grafico podemos ver si es que hay alguna variacion entre los datos de ingresos y si estos tienen algunos datos atipicos por el mes de lanzamiento. Ademas, viendo las lineas dentro de las cajas podemos ver las medianas de estos y ver como es que esto puede variar.\n",
    "\n",
    "### Promedio de Ingresos por Mes de Lanzamiento\n",
    "En este grafico de barras se muestra el promedio de ingresos para cada mes. En este grafico podemos ver de mejor manera como es que se distibuyen los ingresos por mes. Segun los datos que se nos proporcionaron, podemos ver que en mayo se han presentado los ingresos mas altos, por lo que podemos pensar que si se puede asociar los meses a unos mejores ingresos. Un dato importante es que no se puede ver que sea una distibucion normal en su totalidad ya que en el grafico de barras no se ve una campana gaussiana en su totalidad, pero esto no desmerita los demas datos."
   ]
  },
  {
   "cell_type": "markdown",
   "metadata": {},
   "source": [
    "# ¿En qué meses se han visto los lanzamientos con mejores ingresos? ¿Cuántas películas, en promedio, se han lanzado por mes?"
   ]
  },
  {
   "cell_type": "code",
   "execution_count": null,
   "metadata": {},
   "outputs": [],
   "source": [
    "df['releaseMonth'] = pd.to_datetime(df['releaseDate']).dt.month\n",
    "\n",
    "# Gráfico de barras para el ingreso promedio por mes\n",
    "avg_revenue_by_month = df.groupby('releaseMonth')['revenue'].mean()\n",
    "plt.figure(figsize=(12, 6))\n",
    "sns.barplot(x=avg_revenue_by_month.index, y=avg_revenue_by_month.values, palette='viridis')\n",
    "plt.title('Ingreso Promedio por Mes de Lanzamiento')\n",
    "plt.xlabel('Mes de Lanzamiento')\n",
    "plt.ylabel('Ingreso Promedio')\n",
    "plt.xticks(ticks=range(1, 13), labels=['Ene', 'Feb', 'Mar', 'Abr', 'May', 'Jun', 'Jul', 'Ago', 'Sep', 'Oct', 'Nov', 'Dic'])\n",
    "plt.show()\n",
    "\n",
    "# Cálculo del promedio de películas lanzadas por mes\n",
    "avg_movies_per_month = df['releaseMonth'].value_counts().sort_index() / 12\n",
    "avg_movies_per_month = avg_movies_per_month.rename_axis('Mes').reset_index()\n",
    "avg_movies_per_month.columns = ['Mes', 'Promedio de Películas']\n",
    "\n",
    "print(avg_movies_per_month)"
   ]
  },
  {
   "cell_type": "markdown",
   "metadata": {},
   "source": [
    "### Promedio de Ingresos por Mes de Lanzamiento\n",
    "En este grafico de barras se muestra el promedio de ingresos para cada mes. En este grafico podemos ver de mejor manera como es que se distibuyen los ingresos por mes. Segun los datos que se nos proporcionaron, podemos ver que en mayo se han presentado los ingresos mas altos, por lo que podemos pensar que si se puede asociar los meses a unos mejores ingresos. Un dato importante es que no se puede ver que sea una distibucion normal en su totalidad ya que en el grafico de barras no se ve una campana gaussiana en su totalidad, pero esto no desmerita los demas datos.\n",
    "\n",
    "### Peliculas lanzadas en promedio por mes\n",
    "\n",
    "Podemos ver que cada mes ha tenido una cantidad algo parecida de lanzamientos pero los meses con mas lanzamientos son septiembre y octubre, minetras que los menores son enero y abril"
   ]
  },
  {
   "cell_type": "markdown",
   "metadata": {},
   "source": [
    "# ¿Cómo se correlacionan las calificaciones con el éxito comercial?"
   ]
  },
  {
   "cell_type": "code",
   "execution_count": null,
   "metadata": {},
   "outputs": [],
   "source": [
    "# Diagrama de dispersión entre las calificaciones y los ingresos\n",
    "plt.figure(figsize=(10, 6))\n",
    "sns.scatterplot(x='voteAvg', y='revenue', data=df)\n",
    "plt.title('Diagrama de Dispersión: Calificaciones vs Ingresos')\n",
    "plt.xlabel('Calificación Promedio')\n",
    "plt.ylabel('Ingresos')\n",
    "plt.show()\n",
    "correlation = df['voteAvg'].corr(df['revenue'])\n",
    "print(f\"Coeficiente de correlación entre calificaciones y ingresos: {correlation:.2f}\")"
   ]
  },
  {
   "cell_type": "markdown",
   "metadata": {},
   "source": [
    "### Grafico de dispersión\n",
    "\n",
    "Viendo el gráfico podemos ver que no hay una relacion entre las calificaciones de las personas y los ingresos que se reciben, y no solo lo podemos notar en el gráfico, esto tambien se puede ver el calculo del coeficiente de corelación. Para que se demuestre que hay una relacion lineal, el numero debe ser 1 o lo mas cercano posible a eso, pero el resultado que nos dio es 0.14, por lo que esta muy alejado a ser una relacion lineal"
   ]
  },
  {
   "cell_type": "markdown",
   "metadata": {},
   "source": [
    "# ¿A qué género principal pertenecen las películas más largas?"
   ]
  },
  {
   "cell_type": "code",
   "execution_count": null,
   "metadata": {},
   "outputs": [],
   "source": [
    "df['primary_genre'] = df['genres'].apply(lambda x: x.split('|')[0] if isinstance(x, str) else np.nan)\n",
    "top_genres_longest_duration = df.groupby('primary_genre')['runtime'].mean().nlargest(10)\n",
    "\n",
    "# Gráfico de barras para visualizar la duración por género (Top 10)\n",
    "plt.figure(figsize=(12, 8))\n",
    "sns.barplot(x=top_genres_longest_duration.index, y=top_genres_longest_duration.values, palette='viridis')\n",
    "plt.title('Duración Promedio por Género (Top 10)')\n",
    "plt.xlabel('Género')\n",
    "plt.ylabel('Duración Promedio (minutos)')\n",
    "plt.xticks(rotation=45, ha='right')  # Rotar las etiquetas del eje X para mayor legibilidad\n",
    "plt.show()"
   ]
  },
  {
   "cell_type": "markdown",
   "metadata": {},
   "source": [
    "### Gafico de barras\n",
    "Cada una de las peliculas, dentro del genero, se les adjundtaron de 3 a mas generos ya que no se les puede encapsular en una sola, pero al hacer algunas separaciones y cuentas, podemos ver que historia tiene las peliculas con las mayores duraciones, seguidas por guerra y por peliculas western"
   ]
  }
 ],
 "metadata": {
  "kernelspec": {
   "display_name": ".venv",
   "language": "python",
   "name": "python3"
  },
  "language_info": {
   "codemirror_mode": {
    "name": "ipython",
    "version": 3
   },
   "file_extension": ".py",
   "mimetype": "text/x-python",
   "name": "python",
   "nbconvert_exporter": "python",
   "pygments_lexer": "ipython3",
   "version": "3.9.13"
  }
 },
 "nbformat": 4,
 "nbformat_minor": 2
}
